{
 "cells": [
  {
   "cell_type": "markdown",
   "id": "6f077744-ff2b-4da3-968f-915757b5021f",
   "metadata": {},
   "source": [
    "# Data Science Tools and Ecosystem"
   ]
  },
  {
   "cell_type": "markdown",
   "id": "4f33d952-38f1-4a4b-b451-a87f1c4ea374",
   "metadata": {},
   "source": [
    "## Introduction\n",
    "\n",
    "In this notebook, we will explore various tools, languages, and libraries commonly used in the field of Data Science.\n"
   ]
  },
  {
   "cell_type": "markdown",
   "id": "9c63e835-7042-4c13-a57c-37fe3b5e3033",
   "metadata": {},
   "source": [
    "## Popular Languages for Data Science\n",
    "\n",
    "Some of the most popular languages used by data scientists include:\n",
    "- Python\n",
    "- R\n",
    "- SQL\n",
    "- Julia\n",
    "- Scala\n"
   ]
  },
  {
   "cell_type": "markdown",
   "id": "2df7b8c3-7927-42cf-bfcf-3192903fc9ac",
   "metadata": {},
   "source": [
    "## Commonly Used Libraries in Data Science\n",
    "\n",
    "Data scientists rely on several powerful libraries, such as:\n",
    "- Pandas\n",
    "- NumPy\n",
    "- Matplotlib\n",
    "- Scikit-learn\n",
    "- TensorFlow\n"
   ]
  },
  {
   "cell_type": "markdown",
   "id": "c5bb887f-6581-42ee-a663-a3f498728f73",
   "metadata": {},
   "source": [
    "## Data Science Tools\n",
    "\n",
    "| Tool           | Category         | Description                       |\n",
    "|----------------|------------------|-----------------------------------|\n",
    "| Jupyter        | Notebook Tool    | Interactive coding environment    |\n",
    "| RStudio        | IDE              | IDE for R language                |\n",
    "| Apache Spark   | Big Data Tool    | Distributed computing framework   |\n"
   ]
  },
  {
   "cell_type": "markdown",
   "id": "cc55b143-78a5-4c78-9d82-a8d03d1e6216",
   "metadata": {},
   "source": [
    "## Examples of Arithmetic Expressions\n",
    "\n",
    "Below are some examples of simple arithmetic operations using code.\n",
    "\n"
   ]
  },
  {
   "cell_type": "code",
   "execution_count": 14,
   "id": "2923f80d-977f-4fb5-b347-0d288397888a",
   "metadata": {},
   "outputs": [
    {
     "data": {
      "text/plain": [
       "17"
      ]
     },
     "execution_count": 14,
     "metadata": {},
     "output_type": "execute_result"
    }
   ],
   "source": [
    "# Multiply and add numbers\n",
    "(3 * 4) + 5\n"
   ]
  },
  {
   "cell_type": "code",
   "execution_count": 16,
   "id": "b0958303-7b91-43a9-becf-92e80dc33c80",
   "metadata": {},
   "outputs": [
    {
     "data": {
      "text/plain": [
       "2.0"
      ]
     },
     "execution_count": 16,
     "metadata": {},
     "output_type": "execute_result"
    }
   ],
   "source": [
    "# Convert minutes to hours\n",
    "minutes = 120\n",
    "hours = minutes / 60\n",
    "hours\n"
   ]
  },
  {
   "cell_type": "markdown",
   "id": "bbb1d6fa-f097-43ec-b37f-782b45af69a4",
   "metadata": {},
   "source": [
    "## Objectives\n",
    "\n",
    "In this notebook, we aim to:\n",
    "- List popular languages for Data Science\n",
    "- List commonly used libraries\n",
    "- Demonstrate arithmetic operations in code\n",
    "- Convert units (minutes to hours)\n",
    "\n"
   ]
  },
  {
   "cell_type": "markdown",
   "id": "dbab1866-9eb8-48d6-b566-354c7a5f52a2",
   "metadata": {},
   "source": [
    "## Author\n",
    "\n",
    "Diya Saha\n"
   ]
  },
  {
   "cell_type": "code",
   "execution_count": null,
   "id": "79e852e0-48f7-49dd-afab-bd8c43e04615",
   "metadata": {},
   "outputs": [],
   "source": []
  }
 ],
 "metadata": {
  "kernelspec": {
   "display_name": "Python 3 (ipykernel)",
   "language": "python",
   "name": "python3"
  },
  "language_info": {
   "codemirror_mode": {
    "name": "ipython",
    "version": 3
   },
   "file_extension": ".py",
   "mimetype": "text/x-python",
   "name": "python",
   "nbconvert_exporter": "python",
   "pygments_lexer": "ipython3",
   "version": "3.12.7"
  }
 },
 "nbformat": 4,
 "nbformat_minor": 5
}
